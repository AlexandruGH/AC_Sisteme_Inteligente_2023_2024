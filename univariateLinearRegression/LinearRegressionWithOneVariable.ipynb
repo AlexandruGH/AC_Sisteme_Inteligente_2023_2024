{
 "cells": [
  {
   "cell_type": "code",
   "execution_count": 1,
   "id": "0f3abbef-6382-42f8-ac35-e5b68c819ce9",
   "metadata": {},
   "outputs": [],
   "source": [
    "import numpy as np\n",
    "import pandas as pd\n",
    "import matplotlib.pyplot as plt\n",
    "import copy"
   ]
  },
  {
   "cell_type": "markdown",
   "id": "8628a35b-b990-4293-a59b-0bc58cbfd8fa",
   "metadata": {},
   "source": [
    "### Data Preprocessing"
   ]
  },
  {
   "cell_type": "code",
   "execution_count": 2,
   "id": "1933312c-efe3-47f7-a929-1ae96cab6b94",
   "metadata": {},
   "outputs": [],
   "source": [
    "x_train = np.array([30, 50, 60, 80, 100])\n",
    "y_train = np.array([70000, 100000, 120000, 150000, 200000]) "
   ]
  },
  {
   "cell_type": "code",
   "execution_count": 3,
   "id": "48630ccd-e292-40ae-8654-b7d5b57cca5c",
   "metadata": {},
   "outputs": [
    {
     "name": "stdout",
     "output_type": "stream",
     "text": [
      "30 70000\n",
      "50 100000\n",
      "60 120000\n",
      "80 150000\n",
      "100 200000\n"
     ]
    }
   ],
   "source": [
    "for i, j in zip(x_train, y_train):\n",
    "    print(i, j)"
   ]
  },
  {
   "cell_type": "code",
   "execution_count": 4,
   "id": "c7fcf94e-fdbc-43ed-86a4-973909be19ed",
   "metadata": {},
   "outputs": [
    {
     "data": {
      "text/plain": [
       "(5, 5)"
      ]
     },
     "execution_count": 4,
     "metadata": {},
     "output_type": "execute_result"
    }
   ],
   "source": [
    "len(x_train), len(y_train)"
   ]
  },
  {
   "cell_type": "code",
   "execution_count": 5,
   "id": "4c7c1392-353c-4011-9f8a-ec2213761ca2",
   "metadata": {},
   "outputs": [
    {
     "data": {
      "text/plain": [
       "(array([ 30,  50,  60,  80, 100]),\n",
       " array([ 70000, 100000, 120000, 150000, 200000]))"
      ]
     },
     "execution_count": 5,
     "metadata": {},
     "output_type": "execute_result"
    }
   ],
   "source": [
    "x_train, y_train"
   ]
  },
  {
   "cell_type": "code",
   "execution_count": null,
   "id": "fa9f74cf-5593-461d-b528-fc02c3a84b62",
   "metadata": {},
   "outputs": [],
   "source": []
  },
  {
   "cell_type": "code",
   "execution_count": 6,
   "id": "f6f4ce82-1edc-4f2e-a0d0-a8eac84c4d33",
   "metadata": {},
   "outputs": [
    {
     "data": {
      "image/png": "[encoded data removed]",
      "text/plain": [
       "<Figure size 640x480 with 1 Axes>"
      ]
     },
     "metadata": {},
     "output_type": "display_data"
    }
   ],
   "source": [
    "plt.scatter(x_train, y_train)\n",
    "plt.title(\"Train Data: House Size vs Price\")\n",
    "plt.xlabel(\"Size of house in square meters\")\n",
    "plt.ylabel(\"Price\")\n",
    "plt.show()"
   ]
  },
  {
   "cell_type": "code",
   "execution_count": 7,
   "id": "5acf3bd8-2a0f-4d9f-8e47-9d492213fa18",
   "metadata": {},
   "outputs": [
    {
     "data": {
      "text/plain": [
       "(5,)"
      ]
     },
     "execution_count": 7,
     "metadata": {},
     "output_type": "execute_result"
    }
   ],
   "source": [
    "x_train.shape"
   ]
  },
  {
   "cell_type": "markdown",
   "id": "0b80db95-e514-4e0f-84c8-b21ecb2c5c10",
   "metadata": {},
   "source": [
    "### Train"
   ]
  },
  {
   "cell_type": "code",
   "execution_count": 8,
   "id": "62fb8a48-db16-4442-be41-34970162b7a2",
   "metadata": {},
   "outputs": [],
   "source": [
    "def compute_cost(x, y, w, b):\n",
    "    m = x.shape[0]\n",
    "    cost = 0\n",
    "\n",
    "    for i in range(0, m):\n",
    "        f_wb = w * x[i] + b\n",
    "        cost += (f_wb - y[i])**2\n",
    "        \n",
    "    total_cost = cost / (2 * m)\n",
    "    return total_cost    "
   ]
  },
  {
   "cell_type": "code",
   "execution_count": 9,
   "id": "95948426-b1af-4188-9623-b8ffec86c9eb",
   "metadata": {},
   "outputs": [],
   "source": [
    "def compute_gradients(x, y, w, b):\n",
    "    m = x.shape[0]\n",
    "    dj_dw = 0\n",
    "    dj_db = 0\n",
    "\n",
    "    for i in range(0, m):\n",
    "        f_wb = w * x[i] + b\n",
    "        dj_dw += (f_wb - y[i]) * x[i]\n",
    "        dj_db += (f_wb - y[i])\n",
    "\n",
    "    dj_dw = dj_dw / m\n",
    "    dj_db = dj_db / m\n",
    "\n",
    "    return dj_dw, dj_db"
   ]
  },
  {
   "cell_type": "code",
   "execution_count": 10,
   "id": "25718464-6162-4dd6-b683-3f94a69af3a7",
   "metadata": {},
   "outputs": [],
   "source": [
    "def gradient_descent(x, y, w_in, b_in, alpha, num_inters, cost_function, gradient_function):\n",
    "    # pas by object reference\n",
    "    # shallow copy vs deep copy\n",
    "    w = copy.deepcopy(w_in)\n",
    "    b = copy.deepcopy(b_in)\n",
    "\n",
    "    # cost function evolution - loss\n",
    "    J_history = []\n",
    "\n",
    "    for i in range(0, num_inters):\n",
    "        dj_dw, dj_db = gradient_function(x, y, w, b)\n",
    "        \n",
    "        w = w - alpha * dj_dw\n",
    "        b = b - alpha * dj_db\n",
    "\n",
    "        J_history.append(cost_function(x, y, w, b))\n",
    "\n",
    "        print(f\"Iteration: {i} | Cost: {J_history[i]:.4} | dj_dw: {dj_dw:.4} | dj_db: {dj_db:.4} | w: {w:.4} | b: {b:.4}\")\n",
    "\n",
    "    return w, b, J_history    "
   ]
  },
  {
   "cell_type": "code",
   "execution_count": 35,
   "id": "c33b7b61-79db-407d-adc5-8f7a35054890",
   "metadata": {},
   "outputs": [
    {
     "name": "stdout",
     "output_type": "stream",
     "text": [
      "Iteration: 0 | Cost: 1.516e+09 | dj_dw: -9.26e+06 | dj_db: -1.28e+05 | w: 2.778e+03 | b: 38.4\n",
      "Iteration: 1 | Cost: 2.636e+08 | dj_dw: 3.743e+06 | dj_db: 4.983e+04 | w: 1.655e+03 | b: 23.45\n",
      "Iteration: 2 | Cost: 5.888e+07 | dj_dw: -1.513e+06 | dj_db: -2.206e+04 | w: 2.109e+03 | b: 30.07\n",
      "Iteration: 3 | Cost: 2.543e+07 | dj_dw: 6.118e+05 | dj_db: 7.003e+03 | w: 1.925e+03 | b: 27.97\n",
      "Iteration: 4 | Cost: 1.996e+07 | dj_dw: -2.473e+05 | dj_db: -4.746e+03 | w: 2e+03 | b: 29.39\n",
      "Iteration: 5 | Cost: 1.907e+07 | dj_dw: 1e+05 | dj_db: 3.701 | w: 1.97e+03 | b: 29.39\n",
      "Iteration: 6 | Cost: 1.892e+07 | dj_dw: -4.04e+04 | dj_db: -1.916e+03 | w: 1.982e+03 | b: 29.97\n",
      "Iteration: 7 | Cost: 1.889e+07 | dj_dw: 1.636e+04 | dj_db: -1.14e+03 | w: 1.977e+03 | b: 30.31\n",
      "Iteration: 8 | Cost: 1.889e+07 | dj_dw: -6.587e+03 | dj_db: -1.454e+03 | w: 1.979e+03 | b: 30.74\n",
      "Iteration: 9 | Cost: 1.889e+07 | dj_dw: 2.689e+03 | dj_db: -1.327e+03 | w: 1.978e+03 | b: 31.14\n",
      "Iteration: 10 | Cost: 1.889e+07 | dj_dw: -1.061e+03 | dj_db: -1.378e+03 | w: 1.978e+03 | b: 31.56\n",
      "Iteration: 11 | Cost: 1.889e+07 | dj_dw: 455.1 | dj_db: -1.357e+03 | w: 1.978e+03 | b: 31.96\n",
      "Iteration: 12 | Cost: 1.889e+07 | dj_dw: -157.8 | dj_db: -1.366e+03 | w: 1.978e+03 | b: 32.37\n",
      "Iteration: 13 | Cost: 1.889e+07 | dj_dw: 89.97 | dj_db: -1.362e+03 | w: 1.978e+03 | b: 32.78\n",
      "Iteration: 14 | Cost: 1.889e+07 | dj_dw: -10.19 | dj_db: -1.364e+03 | w: 1.978e+03 | b: 33.19\n",
      "Iteration: 15 | Cost: 1.889e+07 | dj_dw: 30.3 | dj_db: -1.363e+03 | w: 1.978e+03 | b: 33.6\n",
      "Iteration: 16 | Cost: 1.889e+07 | dj_dw: 13.93 | dj_db: -1.363e+03 | w: 1.978e+03 | b: 34.01\n",
      "Iteration: 17 | Cost: 1.888e+07 | dj_dw: 20.55 | dj_db: -1.363e+03 | w: 1.978e+03 | b: 34.42\n",
      "Iteration: 18 | Cost: 1.888e+07 | dj_dw: 17.87 | dj_db: -1.363e+03 | w: 1.978e+03 | b: 34.83\n",
      "Iteration: 19 | Cost: 1.888e+07 | dj_dw: 18.95 | dj_db: -1.363e+03 | w: 1.978e+03 | b: 35.23\n",
      "(w, b) found by gradient descent (1.978e+03, 35.23)\n"
     ]
    }
   ],
   "source": [
    "w_init = 0\n",
    "b_init = 0\n",
    "\n",
    "iterations = 20\n",
    "alpha = 3.0e-4\n",
    "\n",
    "w_final, b_final, J_history = gradient_descent(x=x_train, y=y_train, alpha=alpha, w_in=w_init, b_in=b_init, num_inters=iterations, cost_function=compute_cost, gradient_function=compute_gradients)\n",
    "print(f\"(w, b) found by gradient descent ({w_final:.4}, {b_final:.4})\")"
   ]
  },
  {
   "cell_type": "code",
   "execution_count": null,
   "id": "3c9defa3-03b4-416a-be54-60e50fa77f39",
   "metadata": {},
   "outputs": [],
   "source": []
  },
  {
   "cell_type": "markdown",
   "id": "d410a993-8960-4613-b741-4896d6403e82",
   "metadata": {},
   "source": [
    "### Metrics "
   ]
  },
  {
   "cell_type": "code",
   "execution_count": 36,
   "id": "89df9741-8cb2-4ded-a39b-2674d4073131",
   "metadata": {},
   "outputs": [
    {
     "data": {
      "text/plain": [
       "[1516077310.0799985,\n",
       " 263575550.75001973,\n",
       " 58880942.8086731,\n",
       " 25427599.256992,\n",
       " 19959911.864977896,\n",
       " 19065870.658561178,\n",
       " 18919292.371351305,\n",
       " 18894870.658259764,\n",
       " 18890412.812352978,\n",
       " 18889217.66078383,\n",
       " 18888555.760492597,\n",
       " 18887981.043438334,\n",
       " 18887420.609509654,\n",
       " 18886862.544767972,\n",
       " 18886304.90213696,\n",
       " 18885747.36340665,\n",
       " 18885189.876569975,\n",
       " 18884632.433124974,\n",
       " 18884075.031679444,\n",
       " 18883517.672003355]"
      ]
     },
     "execution_count": 36,
     "metadata": {},
     "output_type": "execute_result"
    }
   ],
   "source": [
    "J_history"
   ]
  },
  {
   "cell_type": "code",
   "execution_count": 37,
   "id": "59c81cec-50e6-4b98-9995-edd90a0146b2",
   "metadata": {},
   "outputs": [
    {
     "data": {
      "image/png": "[encoded data removed]",
      "text/plain": [
       "<Figure size 640x480 with 1 Axes>"
      ]
     },
     "metadata": {},
     "output_type": "display_data"
    }
   ],
   "source": [
    "plt.plot(J_history)\n",
    "plt.title(\"Loss evolution (Cost Function per iteration)\")\n",
    "plt.xlabel(\"Iteration number\")\n",
    "plt.ylabel(\"Cost Function\")\n",
    "plt.show()"
   ]
  },
  {
   "cell_type": "code",
   "execution_count": null,
   "id": "0e8a34a8-1ac4-41d7-99de-289604aa6a62",
   "metadata": {},
   "outputs": [],
   "source": []
  },
  {
   "cell_type": "code",
   "execution_count": 59,
   "id": "0e104598-5d18-4e89-9ace-6df6b17b4ae3",
   "metadata": {},
   "outputs": [],
   "source": [
    "def r2_score(y, y_):\n",
    "    num = np.sum((y - y_)**2)\n",
    "    denom = np.sum((y - y.mean())**2)\n",
    "\n",
    "    score = 1 - num / denom\n",
    "    return score"
   ]
  },
  {
   "cell_type": "code",
   "execution_count": 60,
   "id": "7786ac54-707f-4435-9f32-be6a501b87d4",
   "metadata": {},
   "outputs": [],
   "source": [
    "y_ = [w_final * i + b_final for i in x_train]"
   ]
  },
  {
   "cell_type": "code",
   "execution_count": 61,
   "id": "4488ceca-4f13-47de-9def-9f4f8582c104",
   "metadata": {},
   "outputs": [
    {
     "data": {
      "text/plain": [
       "[59379.87227105263,\n",
       " 98942.9642045718,\n",
       " 118724.51017133139,\n",
       " 158287.60210485058,\n",
       " 197850.69403836975]"
      ]
     },
     "execution_count": 61,
     "metadata": {},
     "output_type": "execute_result"
    }
   ],
   "source": [
    "y_"
   ]
  },
  {
   "cell_type": "code",
   "execution_count": 62,
   "id": "bab34509-edce-48b7-923e-7b96d7945b31",
   "metadata": {},
   "outputs": [
    {
     "data": {
      "text/plain": [
       "0.9808871278623448"
      ]
     },
     "execution_count": 62,
     "metadata": {},
     "output_type": "execute_result"
    }
   ],
   "source": [
    "r2_score(y_train, y_) # between 0 - 1. "
   ]
  },
  {
   "cell_type": "markdown",
   "id": "dca15d7a-6ce4-4be1-bd58-38fcc189f341",
   "metadata": {},
   "source": [
    "### Prediction"
   ]
  },
  {
   "cell_type": "code",
   "execution_count": null,
   "id": "c551cc5f-5615-4855-8ad8-981e6790780c",
   "metadata": {},
   "outputs": [],
   "source": [
    "x_train = np.array([30, 50, 60, 80, 100])\n",
    "y_train = np.array([70000, 100000, 120000, 150000, 200000]) "
   ]
  },
  {
   "cell_type": "code",
   "execution_count": 50,
   "id": "563f9c9a-b609-44b8-990a-f021dd0e1fc5",
   "metadata": {},
   "outputs": [
    {
     "name": "stdout",
     "output_type": "stream",
     "text": [
      "A house with size(m^2) 20 has a price of: 39598.32630429304$\n",
      "A house with size(m^2) 30 has a price of: 59379.87227105263$\n",
      "A house with size(m^2) 50 has a price of: 98942.9642045718$\n",
      "A house with size(m^2) 60 has a price of: 118724.51017133139$\n",
      "A house with size(m^2) 100 has a price of: 197850.69403836975$\n"
     ]
    }
   ],
   "source": [
    "size_of_house = 20\n",
    "print(f\"A house with size(m^2) {size_of_house} has a price of: {w_final * size_of_house + b_final}$\")\n",
    "size_of_house = 30\n",
    "print(f\"A house with size(m^2) {size_of_house} has a price of: {w_final * size_of_house + b_final}$\")\n",
    "size_of_house = 50\n",
    "print(f\"A house with size(m^2) {size_of_house} has a price of: {w_final * size_of_house + b_final}$\")\n",
    "size_of_house = 60\n",
    "print(f\"A house with size(m^2) {size_of_house} has a price of: {w_final * size_of_house + b_final}$\")\n",
    "size_of_house = 100\n",
    "print(f\"A house with size(m^2) {size_of_house} has a price of: {w_final * size_of_house + b_final}$\")"
   ]
  },
  {
   "cell_type": "code",
   "execution_count": null,
   "id": "c51d08c7-225a-48c8-935b-30a0c4e1f0d2",
   "metadata": {},
   "outputs": [],
   "source": []
  },
  {
   "cell_type": "code",
   "execution_count": 48,
   "id": "83c79b5f-908a-4c1e-acb7-93dd4b52e971",
   "metadata": {},
   "outputs": [
    {
     "data": {
      "image/png": "[encoded data removed]",
      "text/plain": [
       "<Figure size 640x480 with 1 Axes>"
      ]
     },
     "metadata": {},
     "output_type": "display_data"
    }
   ],
   "source": [
    "plt.scatter(x_train, y_train)\n",
    "plt.plot(x_train, w_final * x_train + b_final, c='r')\n",
    "plt.show()"
   ]
  },
  {
   "cell_type": "code",
   "execution_count": null,
   "id": "77401df3-3471-4632-8130-5ce0a05ed702",
   "metadata": {},
   "outputs": [],
   "source": []
  },
  {
   "cell_type": "code",
   "execution_count": null,
   "id": "f2bcd79e-94a9-485f-8140-3920723dc221",
   "metadata": {},
   "outputs": [],
   "source": []
  }
 ],
 "metadata": {
  "kernelspec": {
   "display_name": "Python 3 (ipykernel)",
   "language": "python",
   "name": "python3"
  },
  "language_info": {
   "codemirror_mode": {
    "name": "ipython",
    "version": 3
   },
   "file_extension": ".py",
   "mimetype": "text/x-python",
   "name": "python",
   "nbconvert_exporter": "python",
   "pygments_lexer": "ipython3",
   "version": "3.12.2"
  }
 },
 "nbformat": 4,
 "nbformat_minor": 5
}
