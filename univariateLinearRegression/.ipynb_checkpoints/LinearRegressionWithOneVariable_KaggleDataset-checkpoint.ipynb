{
 "cells": [
  {
   "cell_type": "code",
   "execution_count": 26,
   "id": "0f3abbef-6382-42f8-ac35-e5b68c819ce9",
   "metadata": {},
   "outputs": [],
   "source": [
    "import numpy as np\n",
    "import pandas as pd\n",
    "import matplotlib.pyplot as plt\n",
    "import copy"
   ]
  },
  {
   "cell_type": "markdown",
   "id": "8628a35b-b990-4293-a59b-0bc58cbfd8fa",
   "metadata": {},
   "source": [
    "### Data Preprocessing"
   ]
  },
  {
   "cell_type": "code",
   "execution_count": 2,
   "id": "1933312c-efe3-47f7-a929-1ae96cab6b94",
   "metadata": {},
   "outputs": [],
   "source": [
    "x_train = np.array([30, 50, 60, 80, 100])\n",
    "y_train = np.array([70000, 100000, 120000, 150000, 200000]) "
   ]
  },
  {
   "cell_type": "code",
   "execution_count": 3,
   "id": "48630ccd-e292-40ae-8654-b7d5b57cca5c",
   "metadata": {},
   "outputs": [
    {
     "name": "stdout",
     "output_type": "stream",
     "text": [
      "30 70000\n",
      "50 100000\n",
      "60 120000\n",
      "80 150000\n",
      "100 200000\n"
     ]
    }
   ],
   "source": [
    "for i, j in zip(x_train, y_train):\n",
    "    print(i, j)"
   ]
  },
  {
   "cell_type": "code",
   "execution_count": 4,
   "id": "c7fcf94e-fdbc-43ed-86a4-973909be19ed",
   "metadata": {},
   "outputs": [
    {
     "data": {
      "text/plain": [
       "(5, 5)"
      ]
     },
     "execution_count": 4,
     "metadata": {},
     "output_type": "execute_result"
    }
   ],
   "source": [
    "len(x_train), len(y_train)"
   ]
  },
  {
   "cell_type": "code",
   "execution_count": 5,
   "id": "4c7c1392-353c-4011-9f8a-ec2213761ca2",
   "metadata": {},
   "outputs": [
    {
     "data": {
      "text/plain": [
       "(array([ 30,  50,  60,  80, 100]),\n",
       " array([ 70000, 100000, 120000, 150000, 200000]))"
      ]
     },
     "execution_count": 5,
     "metadata": {},
     "output_type": "execute_result"
    }
   ],
   "source": [
    "x_train, y_train"
   ]
  },
  {
   "cell_type": "code",
   "execution_count": null,
   "id": "fa9f74cf-5593-461d-b528-fc02c3a84b62",
   "metadata": {},
   "outputs": [],
   "source": []
  },
  {
   "cell_type": "code",
   "execution_count": 13,
   "id": "f6f4ce82-1edc-4f2e-a0d0-a8eac84c4d33",
   "metadata": {},
   "outputs": [
    {
     "data": {
      "image/png": "[encoded data removed]",
      "text/plain": [
       "<Figure size 640x480 with 1 Axes>"
      ]
     },
     "metadata": {},
     "output_type": "display_data"
    }
   ],
   "source": [
    "plt.scatter(x_train, y_train)\n",
    "plt.title(\"Train Data: House Size vs Price\")\n",
    "plt.xlabel(\"Size of house in square meters\")\n",
    "plt.ylabel(\"Price\")\n",
    "plt.show()"
   ]
  },
  {
   "cell_type": "code",
   "execution_count": 19,
   "id": "5acf3bd8-2a0f-4d9f-8e47-9d492213fa18",
   "metadata": {},
   "outputs": [
    {
     "data": {
      "text/plain": [
       "(5,)"
      ]
     },
     "execution_count": 19,
     "metadata": {},
     "output_type": "execute_result"
    }
   ],
   "source": [
    "x_train.shape"
   ]
  },
  {
   "cell_type": "markdown",
   "id": "0b80db95-e514-4e0f-84c8-b21ecb2c5c10",
   "metadata": {},
   "source": [
    "### Train"
   ]
  },
  {
   "cell_type": "code",
   "execution_count": 20,
   "id": "62fb8a48-db16-4442-be41-34970162b7a2",
   "metadata": {},
   "outputs": [],
   "source": [
    "def compute_cost(x, y, w, b):\n",
    "    m = x.shape[0]\n",
    "    cost = 0\n",
    "\n",
    "    for i in range(0, m):\n",
    "        f_wb = w * x[i] + b\n",
    "        cost += (f_wb - y[i])**2\n",
    "        \n",
    "    total_cost = cost / (2 * m)\n",
    "    return total_cost    "
   ]
  },
  {
   "cell_type": "code",
   "execution_count": 24,
   "id": "95948426-b1af-4188-9623-b8ffec86c9eb",
   "metadata": {},
   "outputs": [],
   "source": [
    "def compute_gradients(x, y, w, b):\n",
    "    m = x.shape[0]\n",
    "    dj_dw = 0\n",
    "    dj_db = 0\n",
    "\n",
    "    for i in range(0, m):\n",
    "        f_wb = w * x[i] + b\n",
    "        dj_dw += (f_wb - y[i]) * x[i]\n",
    "        dj_db += (f_wb - y[i])\n",
    "\n",
    "    dj_dw = dj_dw / m\n",
    "    dj_db = dj_db / m\n",
    "\n",
    "    return dj_dw, dj_db"
   ]
  },
  {
   "cell_type": "code",
   "execution_count": 27,
   "id": "25718464-6162-4dd6-b683-3f94a69af3a7",
   "metadata": {},
   "outputs": [],
   "source": [
    "def gradient_descent(x, y, w_in, b_in, alpha, num_inters, cost_function, gradient_function):\n",
    "    # pas by object reference\n",
    "    # shallow copy vs deep copy\n",
    "    w = copy.deepcopy(w_in)\n",
    "    b = copy.deepcopy(b_in)\n",
    "\n",
    "    # cost function evolution - loss\n",
    "    J_history = []\n",
    "\n",
    "    for i in range(0, num_inters):\n",
    "        dj_dw, dj_db = gradient_function(x, y, w, b)\n",
    "        \n",
    "        w = w - alpha * dj_dw\n",
    "        b = b - alpha * dj_db\n",
    "\n",
    "        J_history.append(cost_function(x, y, w, b))\n",
    "\n",
    "        print(f\"Iteration: {i} | Cost: {J_history[i]:.4} | dj_dw: {dj_dw:.4} | dj_db: {dj_db:.4} | w: {w:.4} | b: {b:.4}\")\n",
    "\n",
    "    return w, b, J_history    "
   ]
  },
  {
   "cell_type": "code",
   "execution_count": 33,
   "id": "c33b7b61-79db-407d-adc5-8f7a35054890",
   "metadata": {},
   "outputs": [
    {
     "name": "stdout",
     "output_type": "stream",
     "text": [
      "Iteration: 0 | Cost: 1.241e+11 | dj_dw: -9.26e+06 | dj_db: -1.28e+05 | w: 9.26e+03 | b: 128.0\n",
      "Iteration: 1 | Cost: 1.682e+12 | dj_dw: 3.408e+07 | dj_db: 4.648e+05 | w: -2.482e+04 | b: -336.8\n",
      "Iteration: 2 | Cost: 2.279e+13 | dj_dw: -1.255e+08 | dj_db: -1.717e+06 | w: 1.006e+05 | b: 1.38e+03\n",
      "Iteration: 3 | Cost: 3.087e+14 | dj_dw: 4.618e+08 | dj_db: 6.314e+06 | w: -3.612e+05 | b: -4.934e+03\n",
      "Iteration: 4 | Cost: 4.183e+15 | dj_dw: -1.7e+09 | dj_db: -2.325e+07 | w: 1.339e+06 | b: 1.831e+04\n",
      "Iteration: 5 | Cost: 5.667e+16 | dj_dw: 6.257e+09 | dj_db: 8.557e+07 | w: -4.918e+06 | b: -6.725e+04\n",
      "Iteration: 6 | Cost: 7.678e+17 | dj_dw: -2.303e+10 | dj_db: -3.15e+08 | w: 1.811e+07 | b: 2.477e+05\n",
      "Iteration: 7 | Cost: 1.04e+19 | dj_dw: 8.478e+10 | dj_db: 1.159e+09 | w: -6.666e+07 | b: -9.116e+05\n",
      "Iteration: 8 | Cost: 1.41e+20 | dj_dw: -3.12e+11 | dj_db: -4.267e+09 | w: 2.454e+08 | b: 3.356e+06\n",
      "Iteration: 9 | Cost: 1.91e+21 | dj_dw: 1.149e+12 | dj_db: 1.571e+10 | w: -9.032e+08 | b: -1.235e+07\n",
      "(w, b) found by gradient descent (-9.032e+08, -1.235e+07)\n"
     ]
    }
   ],
   "source": [
    "w_init = 0\n",
    "b_init = 0\n",
    "\n",
    "iterations = 10\n",
    "alpha = 1.0e-3\n",
    "\n",
    "w_final, b_final, J_history = gradient_descent(x=x_train, y=y_train, alpha=alpha, w_in=w_init, b_in=b_init, num_inters=iterations, cost_function=compute_cost, gradient_function=compute_gradients)\n",
    "print(f\"(w, b) found by gradient descent ({w_final:.4}, {b_final:.4})\")"
   ]
  },
  {
   "cell_type": "code",
   "execution_count": null,
   "id": "3c9defa3-03b4-416a-be54-60e50fa77f39",
   "metadata": {},
   "outputs": [],
   "source": []
  },
  {
   "cell_type": "markdown",
   "id": "d410a993-8960-4613-b741-4896d6403e82",
   "metadata": {},
   "source": [
    "### Metrics "
   ]
  },
  {
   "cell_type": "code",
   "execution_count": 34,
   "id": "89df9741-8cb2-4ded-a39b-2674d4073131",
   "metadata": {},
   "outputs": [
    {
     "data": {
      "text/plain": [
       "[124141266112.0,\n",
       " 1681733378808.4673,\n",
       " 22785303632543.48,\n",
       " 308714253431282.6,\n",
       " 4182720563447029.0,\n",
       " 5.667102194224047e+16,\n",
       " 7.678267509629082e+17,\n",
       " 1.040316372384567e+19,\n",
       " 1.4095082690424493e+20,\n",
       " 1.9097205554386087e+21]"
      ]
     },
     "execution_count": 34,
     "metadata": {},
     "output_type": "execute_result"
    }
   ],
   "source": [
    "J_history"
   ]
  },
  {
   "cell_type": "code",
   "execution_count": 36,
   "id": "59c81cec-50e6-4b98-9995-edd90a0146b2",
   "metadata": {},
   "outputs": [
    {
     "data": {
      "image/png": "[encoded data removed]",
      "text/plain": [
       "<Figure size 640x480 with 1 Axes>"
      ]
     },
     "metadata": {},
     "output_type": "display_data"
    }
   ],
   "source": [
    "plt.plot(J_history)\n",
    "plt.show()"
   ]
  },
  {
   "cell_type": "code",
   "execution_count": null,
   "id": "0e8a34a8-1ac4-41d7-99de-289604aa6a62",
   "metadata": {},
   "outputs": [],
   "source": []
  },
  {
   "cell_type": "code",
   "execution_count": null,
   "id": "96344d4d-8307-4642-92b9-b6440da4226b",
   "metadata": {},
   "outputs": [],
   "source": []
  },
  {
   "cell_type": "code",
   "execution_count": null,
   "id": "11c3c813-281f-46d5-bf39-c5bb538a994a",
   "metadata": {},
   "outputs": [],
   "source": []
  },
  {
   "cell_type": "code",
   "execution_count": null,
   "id": "23bb74fe-6d0c-48aa-b978-61324f067bbc",
   "metadata": {},
   "outputs": [],
   "source": []
  },
  {
   "cell_type": "code",
   "execution_count": null,
   "id": "308164ef-1b7d-4652-90bd-f7b4a9f2767e",
   "metadata": {},
   "outputs": [],
   "source": []
  },
  {
   "cell_type": "code",
   "execution_count": null,
   "id": "4ce509b9-eae2-4b19-b0b2-5a4bb957e33e",
   "metadata": {},
   "outputs": [],
   "source": []
  },
  {
   "cell_type": "markdown",
   "id": "dca15d7a-6ce4-4be1-bd58-38fcc189f341",
   "metadata": {},
   "source": [
    "### Prediction"
   ]
  },
  {
   "cell_type": "code",
   "execution_count": null,
   "id": "c551cc5f-5615-4855-8ad8-981e6790780c",
   "metadata": {},
   "outputs": [],
   "source": []
  },
  {
   "cell_type": "code",
   "execution_count": null,
   "id": "563f9c9a-b609-44b8-990a-f021dd0e1fc5",
   "metadata": {},
   "outputs": [],
   "source": []
  },
  {
   "cell_type": "code",
   "execution_count": null,
   "id": "c51d08c7-225a-48c8-935b-30a0c4e1f0d2",
   "metadata": {},
   "outputs": [],
   "source": []
  },
  {
   "cell_type": "code",
   "execution_count": null,
   "id": "83c79b5f-908a-4c1e-acb7-93dd4b52e971",
   "metadata": {},
   "outputs": [],
   "source": []
  }
 ],
 "metadata": {
  "kernelspec": {
   "display_name": "Python 3 (ipykernel)",
   "language": "python",
   "name": "python3"
  },
  "language_info": {
   "codemirror_mode": {
    "name": "ipython",
    "version": 3
   },
   "file_extension": ".py",
   "mimetype": "text/x-python",
   "name": "python",
   "nbconvert_exporter": "python",
   "pygments_lexer": "ipython3",
   "version": "3.12.2"
  }
 },
 "nbformat": 4,
 "nbformat_minor": 5
}
