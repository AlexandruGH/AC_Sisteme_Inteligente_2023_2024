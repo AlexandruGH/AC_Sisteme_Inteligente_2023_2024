{
 "cells": [
  {
   "cell_type": "code",
   "execution_count": 4,
   "id": "9bb8939c-6e8a-4e1e-aafd-51c5237556c1",
   "metadata": {},
   "outputs": [],
   "source": [
    "import numpy as np\n",
    "import pandas as pd\n",
    "import matplotlib.pyplot as plt"
   ]
  },
  {
   "cell_type": "code",
   "execution_count": 5,
   "id": "e11a8b05-506b-432f-8c03-01f55796adcd",
   "metadata": {},
   "outputs": [],
   "source": [
    "x_train = np.array([30, 50, 60, 80, 100])\n",
    "y_train = np.array([70000, 100000, 120000, 150000, 200000])"
   ]
  },
  {
   "cell_type": "markdown",
   "id": "92d22364-2a26-4e19-a699-4d63a848ec5e",
   "metadata": {},
   "source": [
    "### Data Preprocessing"
   ]
  },
  {
   "cell_type": "code",
   "execution_count": 7,
   "id": "b1a16390-488f-44b6-a97d-709c7a70233a",
   "metadata": {},
   "outputs": [
    {
     "data": {
      "text/plain": [
       "(30, 70000)"
      ]
     },
     "execution_count": 7,
     "metadata": {},
     "output_type": "execute_result"
    }
   ],
   "source": [
    "x_train[0], y_train[0]"
   ]
  },
  {
   "cell_type": "code",
   "execution_count": null,
   "id": "d0ac8fb4-5e49-4a20-964d-334deae24e25",
   "metadata": {},
   "outputs": [],
   "source": []
  },
  {
   "cell_type": "code",
   "execution_count": 12,
   "id": "3f7342db-6fde-4a58-ae7b-c6534119fcaf",
   "metadata": {},
   "outputs": [
    {
     "data": {
      "image/png": "[encoded data removed]",
      "text/plain": [
       "<Figure size 640x480 with 1 Axes>"
      ]
     },
     "metadata": {},
     "output_type": "display_data"
    }
   ],
   "source": [
    "plt.scatter(x_train, y_train)\n",
    "plt.title(\"House size vs Price\")\n",
    "plt.xlabel(\"Size of house (m^2)\")\n",
    "plt.ylabel(\"Price ($)\")\n",
    "plt.show()"
   ]
  },
  {
   "cell_type": "code",
   "execution_count": null,
   "id": "db2241f3-7647-416b-993b-39278e21d1b3",
   "metadata": {},
   "outputs": [],
   "source": []
  },
  {
   "cell_type": "code",
   "execution_count": 14,
   "id": "95051599-99a9-49cd-a7fb-1119c5754c1b",
   "metadata": {},
   "outputs": [
    {
     "data": {
      "text/plain": [
       "5"
      ]
     },
     "execution_count": 14,
     "metadata": {},
     "output_type": "execute_result"
    }
   ],
   "source": [
    "x_train.shape[0]"
   ]
  },
  {
   "cell_type": "code",
   "execution_count": 15,
   "id": "10226ed5-02b3-4aa4-96f3-2dc852d5d823",
   "metadata": {},
   "outputs": [
    {
     "data": {
      "text/plain": [
       "5"
      ]
     },
     "execution_count": 15,
     "metadata": {},
     "output_type": "execute_result"
    }
   ],
   "source": [
    "len(x_train)"
   ]
  },
  {
   "cell_type": "code",
   "execution_count": 19,
   "id": "98de1fa8-bc4d-472a-87a5-9f11ab11098e",
   "metadata": {},
   "outputs": [
    {
     "name": "stdout",
     "output_type": "stream",
     "text": [
      "2\n",
      "3\n",
      "4\n"
     ]
    }
   ],
   "source": [
    "for i in range(2, 5):\n",
    "    print(i)"
   ]
  },
  {
   "cell_type": "code",
   "execution_count": null,
   "id": "d714714b-e1c5-4c0a-afba-56acea2ca00b",
   "metadata": {},
   "outputs": [],
   "source": []
  },
  {
   "cell_type": "markdown",
   "id": "842bc22f-fad8-491d-a900-f8968fdae62d",
   "metadata": {},
   "source": [
    "### Train"
   ]
  },
  {
   "cell_type": "code",
   "execution_count": null,
   "id": "9ff51d7d-3153-4996-970f-f0f152eb4e81",
   "metadata": {},
   "outputs": [],
   "source": []
  },
  {
   "cell_type": "code",
   "execution_count": 20,
   "id": "c518b608-ecc8-44c6-aaaa-c5e33ae7c8fb",
   "metadata": {},
   "outputs": [],
   "source": [
    "def compute_cost(x, y, w, b):\n",
    "    m = x.shape[0]\n",
    "    cost = 0\n",
    "    for i in range(0, m):\n",
    "        f_wb = w * x[i] + b\n",
    "        cost += (f_wb - y[i])**2\n",
    "\n",
    "    cost_total = cost / (2 * m)\n",
    "    return cost_total"
   ]
  },
  {
   "cell_type": "code",
   "execution_count": 25,
   "id": "e39989e2-67e8-4dce-b496-5dd02cd534e3",
   "metadata": {},
   "outputs": [],
   "source": [
    "def compute_gradients(x, y, w, b):\n",
    "    m = x.shape[0]\n",
    "\n",
    "    dj_dw = 0\n",
    "    dj_db = 0\n",
    "\n",
    "    for i in range(0, m):\n",
    "        f_wb = w * x[i] + b\n",
    "        dj_dw += (f_wb - y[i]) * x[i]\n",
    "        dj_db += (f_wb - y[i])\n",
    "\n",
    "    dj_dw = dj_dw / m\n",
    "    dj_db = dj_db / m\n",
    "\n",
    "    return dj_dw, dj_db"
   ]
  },
  {
   "cell_type": "code",
   "execution_count": 33,
   "id": "96c1229a-0231-457a-b306-f8021ba95ce9",
   "metadata": {},
   "outputs": [],
   "source": [
    "def gradient_descent(x, y, w_in, b_in, alpha, num_iterations, gradient_function, cost_function):\n",
    "    # pass by object reference\n",
    "    w = w_in\n",
    "    b = b_in\n",
    "\n",
    "    J_history = []\n",
    "\n",
    "    for i in range(0, num_iterations):\n",
    "        dj_dw, dj_db = gradient_function(x=x, y=y, w=w, b=b)\n",
    "\n",
    "        w = w - alpha * dj_dw\n",
    "        b = b - alpha * dj_db\n",
    "\n",
    "        J_history.append(cost_function(x, y, w, b))\n",
    "\n",
    "        print(f\"Iteration: {i} Loss: {cost_function(x, y, w, b)} | w: {w} b: {b}\")\n",
    "\n",
    "    return w, b, J_history        "
   ]
  },
  {
   "cell_type": "code",
   "execution_count": 44,
   "id": "7d8ae7b6-69c2-426e-b2ce-f651fb44c1d2",
   "metadata": {},
   "outputs": [
    {
     "name": "stdout",
     "output_type": "stream",
     "text": [
      "Iteration: 0 Loss: 1516077310.0799985 | w: 2777.9999999999995 b: 38.4\n",
      "Iteration: 1 Loss: 263575550.75001973 | w: 1654.9507200000003 b: 23.450880000000012\n",
      "Iteration: 2 Loss: 58880942.8086731 | w: 2108.949652224 b: 30.068790912000008\n",
      "Iteration: 3 Loss: 25427599.256992 | w: 1925.4070197159938 b: 27.967936952025607\n",
      "Iteration: 4 Loss: 19959911.864977896 | w: 1999.5985796452599 b: 29.39173179239292\n",
      "Iteration: 5 Loss: 19065870.658561178 | w: 1969.597852572901 b: 29.390621543666214\n",
      "Iteration: 6 Loss: 18919292.371351305 | w: 1981.7181676269095 b: 29.965525587803413\n",
      "Iteration: 7 Loss: 18894870.658259764 | w: 1976.8105221874425 b: 30.307547111690408\n",
      "Iteration: 8 Loss: 18890412.812352978 | w: 1978.7866441317287 b: 30.743692821558003\n",
      "Iteration: 9 Loss: 18889217.66078383 | w: 1977.9799168686077 b: 31.14176614638234\n"
     ]
    }
   ],
   "source": [
    "w_init = 0\n",
    "b_init = 0\n",
    "\n",
    "iterations = 10\n",
    "alpha = 3.0e-4\n",
    "\n",
    "w_final, b_final, J_history = gradient_descent(x_train, y_train, w_init, b_init, alpha, iterations, compute_gradients, compute_cost)"
   ]
  },
  {
   "cell_type": "code",
   "execution_count": 45,
   "id": "eb7e20d7-fcbe-4e73-9e48-4ed4fe948ddc",
   "metadata": {},
   "outputs": [
    {
     "data": {
      "text/plain": [
       "[<matplotlib.lines.Line2D at 0x2e376e0a360>]"
      ]
     },
     "execution_count": 45,
     "metadata": {},
     "output_type": "execute_result"
    },
    {
     "data": {
      "image/png": "[encoded data removed]",
      "text/plain": [
       "<Figure size 640x480 with 1 Axes>"
      ]
     },
     "metadata": {},
     "output_type": "display_data"
    }
   ],
   "source": [
    "plt.plot(J_history)"
   ]
  },
  {
   "cell_type": "code",
   "execution_count": null,
   "id": "8a5e6f97-b9d5-4ba5-863a-751f52b49002",
   "metadata": {},
   "outputs": [],
   "source": []
  },
  {
   "cell_type": "code",
   "execution_count": 30,
   "id": "4204b959-6d6d-48bd-98f0-d22a54deb9e5",
   "metadata": {},
   "outputs": [
    {
     "data": {
      "text/plain": [
       "0.0004"
      ]
     },
     "execution_count": 30,
     "metadata": {},
     "output_type": "execute_result"
    }
   ],
   "source": [
    "4.0e-4"
   ]
  },
  {
   "cell_type": "code",
   "execution_count": null,
   "id": "5ae0b26e-76b8-480f-aa41-f77f800f57de",
   "metadata": {},
   "outputs": [],
   "source": []
  },
  {
   "cell_type": "code",
   "execution_count": null,
   "id": "d4e42eb9-7bfb-4441-8ed4-3c1947e4cfcc",
   "metadata": {},
   "outputs": [],
   "source": []
  },
  {
   "cell_type": "markdown",
   "id": "a60242bf-35dd-4b2b-b1b8-2cd492cbd478",
   "metadata": {},
   "source": [
    "### Metrics"
   ]
  },
  {
   "cell_type": "code",
   "execution_count": null,
   "id": "4b28e098-84b4-4a46-938b-a92af5430de4",
   "metadata": {},
   "outputs": [],
   "source": []
  },
  {
   "cell_type": "code",
   "execution_count": null,
   "id": "b4cf60a9-6d8d-4c28-876f-75cbf59bbdcf",
   "metadata": {},
   "outputs": [],
   "source": []
  },
  {
   "cell_type": "code",
   "execution_count": null,
   "id": "6fe1d27e-adc7-452a-8052-3e363e1a02a1",
   "metadata": {},
   "outputs": [],
   "source": []
  },
  {
   "cell_type": "markdown",
   "id": "b9c0d8d9-dea0-48e5-8c82-bd69cb9d3119",
   "metadata": {},
   "source": [
    "### Prediction"
   ]
  },
  {
   "cell_type": "code",
   "execution_count": null,
   "id": "809ff9a2-1c0c-4633-a2af-5f50ca206a27",
   "metadata": {},
   "outputs": [],
   "source": []
  },
  {
   "cell_type": "code",
   "execution_count": null,
   "id": "cc26e9f3-ff72-4221-8d8d-1bd61e6e6a6a",
   "metadata": {},
   "outputs": [],
   "source": []
  },
  {
   "cell_type": "code",
   "execution_count": null,
   "id": "e6645fc6-974c-4d16-aaba-42b74e2710af",
   "metadata": {},
   "outputs": [],
   "source": []
  }
 ],
 "metadata": {
  "kernelspec": {
   "display_name": "Python 3 (ipykernel)",
   "language": "python",
   "name": "python3"
  },
  "language_info": {
   "codemirror_mode": {
    "name": "ipython",
    "version": 3
   },
   "file_extension": ".py",
   "mimetype": "text/x-python",
   "name": "python",
   "nbconvert_exporter": "python",
   "pygments_lexer": "ipython3",
   "version": "3.12.2"
  }
 },
 "nbformat": 4,
 "nbformat_minor": 5
}
