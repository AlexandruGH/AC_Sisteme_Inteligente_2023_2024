{
 "cells": [
  {
   "cell_type": "code",
   "execution_count": 10,
   "id": "03792f31-2a81-4e05-88de-e85c9c699dde",
   "metadata": {},
   "outputs": [],
   "source": [
    "import numpy as np\n",
    "import pandas as pd\n",
    "import matplotlib.pyplot as plt"
   ]
  },
  {
   "cell_type": "code",
   "execution_count": null,
   "id": "b423ffbd-e1ca-4152-97c3-911bb65711dd",
   "metadata": {},
   "outputs": [],
   "source": []
  },
  {
   "cell_type": "markdown",
   "id": "e1a5e4ea-0b1f-48a9-8fba-9e9e0df36d80",
   "metadata": {},
   "source": [
    "### Data Preprocessing"
   ]
  },
  {
   "cell_type": "code",
   "execution_count": 13,
   "id": "22d3db88-6d66-489b-b1d7-563898c7c1db",
   "metadata": {},
   "outputs": [],
   "source": [
    "x_train = np.array([30, 50, 60, 80, 100])\n",
    "y_train = np.array([70000, 100000, 130000, 150000, 180000])"
   ]
  },
  {
   "cell_type": "code",
   "execution_count": null,
   "id": "e791d4b0-5c0b-49ad-ad87-6d47ea01b821",
   "metadata": {},
   "outputs": [],
   "source": []
  },
  {
   "cell_type": "code",
   "execution_count": 15,
   "id": "07d2a0e9-9580-43e4-b517-7824b60cae43",
   "metadata": {},
   "outputs": [
    {
     "data": {
      "text/plain": [
       "(30, 70000)"
      ]
     },
     "execution_count": 15,
     "metadata": {},
     "output_type": "execute_result"
    }
   ],
   "source": [
    "x_train[0], y_train[0]"
   ]
  },
  {
   "cell_type": "code",
   "execution_count": null,
   "id": "37925562-dd07-495b-b63c-ae4657421c47",
   "metadata": {},
   "outputs": [],
   "source": []
  },
  {
   "cell_type": "code",
   "execution_count": null,
   "id": "d72e8a8e-3b5b-4f75-83f9-416860411a63",
   "metadata": {},
   "outputs": [],
   "source": []
  },
  {
   "cell_type": "code",
   "execution_count": 22,
   "id": "9ad4d957-ee88-47c1-bd95-4e6159fe08d6",
   "metadata": {},
   "outputs": [
    {
     "data": {
      "image/png": "[encoded data removed]",
      "text/plain": [
       "<Figure size 640x480 with 1 Axes>"
      ]
     },
     "metadata": {},
     "output_type": "display_data"
    }
   ],
   "source": [
    "plt.scatter(x_train, y_train)\n",
    "plt.title(\"House Size vs Price\")\n",
    "plt.xlabel(\"Size of house(m^2)\")\n",
    "plt.ylabel(\"Price($)\")\n",
    "plt.show()"
   ]
  },
  {
   "cell_type": "code",
   "execution_count": null,
   "id": "d84fee5a-83fe-47b2-8df2-0e209d966f9f",
   "metadata": {},
   "outputs": [],
   "source": []
  },
  {
   "cell_type": "code",
   "execution_count": 24,
   "id": "4265a56d-87d1-4017-952e-bfbf0b576f59",
   "metadata": {},
   "outputs": [
    {
     "data": {
      "text/plain": [
       "5"
      ]
     },
     "execution_count": 24,
     "metadata": {},
     "output_type": "execute_result"
    }
   ],
   "source": [
    "x_train.shape[0]"
   ]
  },
  {
   "cell_type": "code",
   "execution_count": 25,
   "id": "a95a3035-e0d9-484b-a208-5dc3f0dfcdc3",
   "metadata": {},
   "outputs": [
    {
     "data": {
      "text/plain": [
       "5"
      ]
     },
     "execution_count": 25,
     "metadata": {},
     "output_type": "execute_result"
    }
   ],
   "source": [
    "len(x_train)"
   ]
  },
  {
   "cell_type": "code",
   "execution_count": 32,
   "id": "5e082405-c8f4-49e2-b09b-6c322adab474",
   "metadata": {},
   "outputs": [
    {
     "name": "stdout",
     "output_type": "stream",
     "text": [
      "0\n",
      "1\n",
      "2\n",
      "3\n",
      "4\n"
     ]
    }
   ],
   "source": [
    "for i in range(0, 5):\n",
    "    print(i)"
   ]
  },
  {
   "cell_type": "code",
   "execution_count": null,
   "id": "cbea87df-2eed-43dd-be5e-920474b7c1ef",
   "metadata": {},
   "outputs": [],
   "source": []
  },
  {
   "cell_type": "markdown",
   "id": "f73fba23-58e9-49c9-bb11-df40e3e60b4b",
   "metadata": {},
   "source": [
    "### Train"
   ]
  },
  {
   "cell_type": "code",
   "execution_count": 35,
   "id": "858d7d06-045a-4d95-b7c6-7df5f277d54d",
   "metadata": {},
   "outputs": [],
   "source": [
    "def compute_cost(x, y, w, b):\n",
    "    m = x.shape[0]\n",
    "\n",
    "    cost = 0\n",
    "    for i in range(0, m):\n",
    "        f_wb = w * x[i] + b\n",
    "        cost += (f_wb - y[i])**2\n",
    "    total_cost = cost / (2 * m)\n",
    "\n",
    "    return total_cost"
   ]
  },
  {
   "cell_type": "code",
   "execution_count": 38,
   "id": "5e925e4e-e155-470c-951d-f22037f9e24e",
   "metadata": {},
   "outputs": [],
   "source": [
    "def compute_gradients(x, y, w, b):\n",
    "    m = x.shape[0]\n",
    "\n",
    "    dj_dw = 0\n",
    "    dj_db = 0\n",
    "    \n",
    "    for i in range(0, m):\n",
    "        f_wb = w * x[i] + b\n",
    "        \n",
    "        dj_dw += (f_wb - y[i]) * x[i]\n",
    "        dj_db += (f_wb - y[i])\n",
    "\n",
    "    dj_dw = dj_dw / m\n",
    "    dj_db = dj_db / m\n",
    "\n",
    "    return dj_dw, dj_db"
   ]
  },
  {
   "cell_type": "code",
   "execution_count": 40,
   "id": "a3d16b55-8da1-4ebe-b91f-fa543c3a4fc6",
   "metadata": {},
   "outputs": [
    {
     "data": {
      "text/plain": [
       "(-8975192.0, -125934.0)"
      ]
     },
     "execution_count": 40,
     "metadata": {},
     "output_type": "execute_result"
    }
   ],
   "source": [
    "compute_gradients(x_train, y_train, 1, 2)"
   ]
  },
  {
   "cell_type": "code",
   "execution_count": null,
   "id": "a418d92b-3b88-4774-b1f9-9cb1c6ff5419",
   "metadata": {},
   "outputs": [],
   "source": []
  },
  {
   "cell_type": "code",
   "execution_count": 41,
   "id": "3bd154da-ade2-4806-b268-10f6ddb8e3d6",
   "metadata": {},
   "outputs": [],
   "source": [
    "def gradient_descent(x, y, w_in, b_in, alpha, num_interations, gradient_function, cost_function):\n",
    "    # pass by value vs pass by reference ?\n",
    "    # pass by object reference\n",
    "    w = w_in\n",
    "    b = b_in\n",
    "\n",
    "    J_history = []\n",
    "\n",
    "    for i in range(0, num_interations):\n",
    "        dj_dw, dj_db = gradient_function(x, y, w, b)\n",
    "\n",
    "        w = w - alpha * dj_dw\n",
    "        b = b - alpha * dj_db\n",
    "\n",
    "        J_history.append(cost_function(x, y, w, b))\n",
    "        print(f\"Iteration: {i} | Loss: {cost_function(x, y, w, b)} | w: {w} | b: {b}\")\n",
    "\n",
    "    return w, b, J_history"
   ]
  },
  {
   "cell_type": "code",
   "execution_count": 51,
   "id": "93a0c009-8f46-4e65-bd14-09d17bbfab8d",
   "metadata": {},
   "outputs": [
    {
     "name": "stdout",
     "output_type": "stream",
     "text": [
      "Iteration: 0 | Loss: 2492081986.5799994 | w: 898.0 | b: 12.600000000000001\n",
      "Iteration: 1 | Loss: 744157460.340272 | w: 1375.65536 | b: 19.45154\n",
      "Iteration: 2 | Loss: 249614900.6623466 | w: 1629.724161664 | b: 23.245400542000002\n",
      "Iteration: 3 | Loss: 109692806.83982582 | w: 1764.8644834417792 | b: 25.412841367296203\n",
      "Iteration: 4 | Loss: 70103794.37227534 | w: 1836.7452630062758 | b: 26.715167389132088\n",
      "Iteration: 5 | Loss: 58902109.16892692 | w: 1874.9775028480483 | b: 27.55732618915301\n",
      "Iteration: 6 | Loss: 55732075.536870025 | w: 1895.3116646275512 | b: 28.154714438306584\n",
      "Iteration: 7 | Loss: 54834444.18959037 | w: 1906.125615409452 | b: 28.621904313246425\n",
      "Iteration: 8 | Loss: 54579745.644246295 | w: 1911.8756472102236 | b: 29.019838184194608\n",
      "Iteration: 9 | Loss: 54506952.662143335 | w: 1914.9321173514602 | b: 29.38093205823076\n"
     ]
    }
   ],
   "source": [
    "w_in = 0\n",
    "b_in = 0\n",
    "\n",
    "num_interations = 10\n",
    "alpha = 1.0e-4\n",
    "\n",
    "w_final, b_final, J_history = gradient_descent(x_train, y_train, w_in, b_in, alpha, num_interations, compute_gradients, compute_cost)\n"
   ]
  },
  {
   "cell_type": "markdown",
   "id": "cbc3a16b-02e5-4b45-a7b5-37a5169f39ff",
   "metadata": {},
   "source": [
    "### Metrics"
   ]
  },
  {
   "cell_type": "code",
   "execution_count": null,
   "id": "b44ada1c-cdde-4d7f-8000-a99925832060",
   "metadata": {},
   "outputs": [],
   "source": []
  },
  {
   "cell_type": "code",
   "execution_count": 52,
   "id": "689ae325-9dd9-497f-af7a-310b8b6d4a10",
   "metadata": {},
   "outputs": [
    {
     "data": {
      "text/plain": [
       "[<matplotlib.lines.Line2D at 0x27922f22750>]"
      ]
     },
     "execution_count": 52,
     "metadata": {},
     "output_type": "execute_result"
    },
    {
     "data": {
      "image/png": "[encoded data removed]",
      "text/plain": [
       "<Figure size 640x480 with 1 Axes>"
      ]
     },
     "metadata": {},
     "output_type": "display_data"
    }
   ],
   "source": [
    "plt.plot(J_history)"
   ]
  },
  {
   "cell_type": "code",
   "execution_count": null,
   "id": "3bfc0848-5206-4773-866f-8db226d42ce3",
   "metadata": {},
   "outputs": [],
   "source": []
  },
  {
   "cell_type": "markdown",
   "id": "e8f6210e-dd70-41ca-b48a-030b280dcbbc",
   "metadata": {},
   "source": [
    "### Prediction"
   ]
  },
  {
   "cell_type": "code",
   "execution_count": null,
   "id": "1b12182e-f83e-4e9a-b876-0ca6350ec42f",
   "metadata": {},
   "outputs": [],
   "source": []
  },
  {
   "cell_type": "code",
   "execution_count": null,
   "id": "28416b5c-1d4b-4751-983c-6f96ad60f414",
   "metadata": {},
   "outputs": [],
   "source": []
  },
  {
   "cell_type": "code",
   "execution_count": null,
   "id": "719368bd-3b2c-435e-9e68-b591f9908867",
   "metadata": {},
   "outputs": [],
   "source": []
  }
 ],
 "metadata": {
  "kernelspec": {
   "display_name": "Python 3 (ipykernel)",
   "language": "python",
   "name": "python3"
  },
  "language_info": {
   "codemirror_mode": {
    "name": "ipython",
    "version": 3
   },
   "file_extension": ".py",
   "mimetype": "text/x-python",
   "name": "python",
   "nbconvert_exporter": "python",
   "pygments_lexer": "ipython3",
   "version": "3.12.2"
  }
 },
 "nbformat": 4,
 "nbformat_minor": 5
}
