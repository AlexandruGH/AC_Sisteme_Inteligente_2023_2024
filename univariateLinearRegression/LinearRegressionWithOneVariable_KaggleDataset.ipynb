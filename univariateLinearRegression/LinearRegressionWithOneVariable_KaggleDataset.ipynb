{
 "cells": [
  {
   "cell_type": "code",
   "execution_count": 1,
   "id": "0f3abbef-6382-42f8-ac35-e5b68c819ce9",
   "metadata": {},
   "outputs": [],
   "source": [
    "import numpy as np\n",
    "import pandas as pd\n",
    "import matplotlib.pyplot as plt\n",
    "import copy"
   ]
  },
  {
   "cell_type": "markdown",
   "id": "8628a35b-b990-4293-a59b-0bc58cbfd8fa",
   "metadata": {},
   "source": [
    "### Data Preprocessing"
   ]
  },
  {
   "cell_type": "code",
   "execution_count": 63,
   "id": "1933312c-efe3-47f7-a929-1ae96cab6b94",
   "metadata": {},
   "outputs": [],
   "source": [
    "data = pd.read_csv('data.csv')"
   ]
  },
  {
   "cell_type": "code",
   "execution_count": 64,
   "id": "48630ccd-e292-40ae-8654-b7d5b57cca5c",
   "metadata": {},
   "outputs": [
    {
     "data": {
      "text/html": [
       "<div>\n",
       "<style scoped>\n",
       "    .dataframe tbody tr th:only-of-type {\n",
       "        vertical-align: middle;\n",
       "    }\n",
       "\n",
       "    .dataframe tbody tr th {\n",
       "        vertical-align: top;\n",
       "    }\n",
       "\n",
       "    .dataframe thead th {\n",
       "        text-align: right;\n",
       "    }\n",
       "</style>\n",
       "<table border=\"1\" class=\"dataframe\">\n",
       "  <thead>\n",
       "    <tr style=\"text-align: right;\">\n",
       "      <th></th>\n",
       "      <th>date</th>\n",
       "      <th>price</th>\n",
       "      <th>bedrooms</th>\n",
       "      <th>bathrooms</th>\n",
       "      <th>sqft_living</th>\n",
       "      <th>sqft_lot</th>\n",
       "      <th>floors</th>\n",
       "      <th>waterfront</th>\n",
       "      <th>view</th>\n",
       "      <th>condition</th>\n",
       "      <th>sqft_above</th>\n",
       "      <th>sqft_basement</th>\n",
       "      <th>yr_built</th>\n",
       "      <th>yr_renovated</th>\n",
       "      <th>street</th>\n",
       "      <th>city</th>\n",
       "      <th>statezip</th>\n",
       "      <th>country</th>\n",
       "    </tr>\n",
       "  </thead>\n",
       "  <tbody>\n",
       "    <tr>\n",
       "      <th>0</th>\n",
       "      <td>2014-05-02 00:00:00</td>\n",
       "      <td>3.130000e+05</td>\n",
       "      <td>3.0</td>\n",
       "      <td>1.50</td>\n",
       "      <td>1340</td>\n",
       "      <td>7912</td>\n",
       "      <td>1.5</td>\n",
       "      <td>0</td>\n",
       "      <td>0</td>\n",
       "      <td>3</td>\n",
       "      <td>1340</td>\n",
       "      <td>0</td>\n",
       "      <td>1955</td>\n",
       "      <td>2005</td>\n",
       "      <td>18810 Densmore Ave N</td>\n",
       "      <td>Shoreline</td>\n",
       "      <td>WA 98133</td>\n",
       "      <td>USA</td>\n",
       "    </tr>\n",
       "    <tr>\n",
       "      <th>1</th>\n",
       "      <td>2014-05-02 00:00:00</td>\n",
       "      <td>2.384000e+06</td>\n",
       "      <td>5.0</td>\n",
       "      <td>2.50</td>\n",
       "      <td>3650</td>\n",
       "      <td>9050</td>\n",
       "      <td>2.0</td>\n",
       "      <td>0</td>\n",
       "      <td>4</td>\n",
       "      <td>5</td>\n",
       "      <td>3370</td>\n",
       "      <td>280</td>\n",
       "      <td>1921</td>\n",
       "      <td>0</td>\n",
       "      <td>709 W Blaine St</td>\n",
       "      <td>Seattle</td>\n",
       "      <td>WA 98119</td>\n",
       "      <td>USA</td>\n",
       "    </tr>\n",
       "    <tr>\n",
       "      <th>2</th>\n",
       "      <td>2014-05-02 00:00:00</td>\n",
       "      <td>3.420000e+05</td>\n",
       "      <td>3.0</td>\n",
       "      <td>2.00</td>\n",
       "      <td>1930</td>\n",
       "      <td>11947</td>\n",
       "      <td>1.0</td>\n",
       "      <td>0</td>\n",
       "      <td>0</td>\n",
       "      <td>4</td>\n",
       "      <td>1930</td>\n",
       "      <td>0</td>\n",
       "      <td>1966</td>\n",
       "      <td>0</td>\n",
       "      <td>26206-26214 143rd Ave SE</td>\n",
       "      <td>Kent</td>\n",
       "      <td>WA 98042</td>\n",
       "      <td>USA</td>\n",
       "    </tr>\n",
       "    <tr>\n",
       "      <th>3</th>\n",
       "      <td>2014-05-02 00:00:00</td>\n",
       "      <td>4.200000e+05</td>\n",
       "      <td>3.0</td>\n",
       "      <td>2.25</td>\n",
       "      <td>2000</td>\n",
       "      <td>8030</td>\n",
       "      <td>1.0</td>\n",
       "      <td>0</td>\n",
       "      <td>0</td>\n",
       "      <td>4</td>\n",
       "      <td>1000</td>\n",
       "      <td>1000</td>\n",
       "      <td>1963</td>\n",
       "      <td>0</td>\n",
       "      <td>857 170th Pl NE</td>\n",
       "      <td>Bellevue</td>\n",
       "      <td>WA 98008</td>\n",
       "      <td>USA</td>\n",
       "    </tr>\n",
       "    <tr>\n",
       "      <th>4</th>\n",
       "      <td>2014-05-02 00:00:00</td>\n",
       "      <td>5.500000e+05</td>\n",
       "      <td>4.0</td>\n",
       "      <td>2.50</td>\n",
       "      <td>1940</td>\n",
       "      <td>10500</td>\n",
       "      <td>1.0</td>\n",
       "      <td>0</td>\n",
       "      <td>0</td>\n",
       "      <td>4</td>\n",
       "      <td>1140</td>\n",
       "      <td>800</td>\n",
       "      <td>1976</td>\n",
       "      <td>1992</td>\n",
       "      <td>9105 170th Ave NE</td>\n",
       "      <td>Redmond</td>\n",
       "      <td>WA 98052</td>\n",
       "      <td>USA</td>\n",
       "    </tr>\n",
       "    <tr>\n",
       "      <th>...</th>\n",
       "      <td>...</td>\n",
       "      <td>...</td>\n",
       "      <td>...</td>\n",
       "      <td>...</td>\n",
       "      <td>...</td>\n",
       "      <td>...</td>\n",
       "      <td>...</td>\n",
       "      <td>...</td>\n",
       "      <td>...</td>\n",
       "      <td>...</td>\n",
       "      <td>...</td>\n",
       "      <td>...</td>\n",
       "      <td>...</td>\n",
       "      <td>...</td>\n",
       "      <td>...</td>\n",
       "      <td>...</td>\n",
       "      <td>...</td>\n",
       "      <td>...</td>\n",
       "    </tr>\n",
       "    <tr>\n",
       "      <th>4595</th>\n",
       "      <td>2014-07-09 00:00:00</td>\n",
       "      <td>3.081667e+05</td>\n",
       "      <td>3.0</td>\n",
       "      <td>1.75</td>\n",
       "      <td>1510</td>\n",
       "      <td>6360</td>\n",
       "      <td>1.0</td>\n",
       "      <td>0</td>\n",
       "      <td>0</td>\n",
       "      <td>4</td>\n",
       "      <td>1510</td>\n",
       "      <td>0</td>\n",
       "      <td>1954</td>\n",
       "      <td>1979</td>\n",
       "      <td>501 N 143rd St</td>\n",
       "      <td>Seattle</td>\n",
       "      <td>WA 98133</td>\n",
       "      <td>USA</td>\n",
       "    </tr>\n",
       "    <tr>\n",
       "      <th>4596</th>\n",
       "      <td>2014-07-09 00:00:00</td>\n",
       "      <td>5.343333e+05</td>\n",
       "      <td>3.0</td>\n",
       "      <td>2.50</td>\n",
       "      <td>1460</td>\n",
       "      <td>7573</td>\n",
       "      <td>2.0</td>\n",
       "      <td>0</td>\n",
       "      <td>0</td>\n",
       "      <td>3</td>\n",
       "      <td>1460</td>\n",
       "      <td>0</td>\n",
       "      <td>1983</td>\n",
       "      <td>2009</td>\n",
       "      <td>14855 SE 10th Pl</td>\n",
       "      <td>Bellevue</td>\n",
       "      <td>WA 98007</td>\n",
       "      <td>USA</td>\n",
       "    </tr>\n",
       "    <tr>\n",
       "      <th>4597</th>\n",
       "      <td>2014-07-09 00:00:00</td>\n",
       "      <td>4.169042e+05</td>\n",
       "      <td>3.0</td>\n",
       "      <td>2.50</td>\n",
       "      <td>3010</td>\n",
       "      <td>7014</td>\n",
       "      <td>2.0</td>\n",
       "      <td>0</td>\n",
       "      <td>0</td>\n",
       "      <td>3</td>\n",
       "      <td>3010</td>\n",
       "      <td>0</td>\n",
       "      <td>2009</td>\n",
       "      <td>0</td>\n",
       "      <td>759 Ilwaco Pl NE</td>\n",
       "      <td>Renton</td>\n",
       "      <td>WA 98059</td>\n",
       "      <td>USA</td>\n",
       "    </tr>\n",
       "    <tr>\n",
       "      <th>4598</th>\n",
       "      <td>2014-07-10 00:00:00</td>\n",
       "      <td>2.034000e+05</td>\n",
       "      <td>4.0</td>\n",
       "      <td>2.00</td>\n",
       "      <td>2090</td>\n",
       "      <td>6630</td>\n",
       "      <td>1.0</td>\n",
       "      <td>0</td>\n",
       "      <td>0</td>\n",
       "      <td>3</td>\n",
       "      <td>1070</td>\n",
       "      <td>1020</td>\n",
       "      <td>1974</td>\n",
       "      <td>0</td>\n",
       "      <td>5148 S Creston St</td>\n",
       "      <td>Seattle</td>\n",
       "      <td>WA 98178</td>\n",
       "      <td>USA</td>\n",
       "    </tr>\n",
       "    <tr>\n",
       "      <th>4599</th>\n",
       "      <td>2014-07-10 00:00:00</td>\n",
       "      <td>2.206000e+05</td>\n",
       "      <td>3.0</td>\n",
       "      <td>2.50</td>\n",
       "      <td>1490</td>\n",
       "      <td>8102</td>\n",
       "      <td>2.0</td>\n",
       "      <td>0</td>\n",
       "      <td>0</td>\n",
       "      <td>4</td>\n",
       "      <td>1490</td>\n",
       "      <td>0</td>\n",
       "      <td>1990</td>\n",
       "      <td>0</td>\n",
       "      <td>18717 SE 258th St</td>\n",
       "      <td>Covington</td>\n",
       "      <td>WA 98042</td>\n",
       "      <td>USA</td>\n",
       "    </tr>\n",
       "  </tbody>\n",
       "</table>\n",
       "<p>4600 rows × 18 columns</p>\n",
       "</div>"
      ],
      "text/plain": [
       "                     date         price  bedrooms  bathrooms  sqft_living  \\\n",
       "0     2014-05-02 00:00:00  3.130000e+05       3.0       1.50         1340   \n",
       "1     2014-05-02 00:00:00  2.384000e+06       5.0       2.50         3650   \n",
       "2     2014-05-02 00:00:00  3.420000e+05       3.0       2.00         1930   \n",
       "3     2014-05-02 00:00:00  4.200000e+05       3.0       2.25         2000   \n",
       "4     2014-05-02 00:00:00  5.500000e+05       4.0       2.50         1940   \n",
       "...                   ...           ...       ...        ...          ...   \n",
       "4595  2014-07-09 00:00:00  3.081667e+05       3.0       1.75         1510   \n",
       "4596  2014-07-09 00:00:00  5.343333e+05       3.0       2.50         1460   \n",
       "4597  2014-07-09 00:00:00  4.169042e+05       3.0       2.50         3010   \n",
       "4598  2014-07-10 00:00:00  2.034000e+05       4.0       2.00         2090   \n",
       "4599  2014-07-10 00:00:00  2.206000e+05       3.0       2.50         1490   \n",
       "\n",
       "      sqft_lot  floors  waterfront  view  condition  sqft_above  \\\n",
       "0         7912     1.5           0     0          3        1340   \n",
       "1         9050     2.0           0     4          5        3370   \n",
       "2        11947     1.0           0     0          4        1930   \n",
       "3         8030     1.0           0     0          4        1000   \n",
       "4        10500     1.0           0     0          4        1140   \n",
       "...        ...     ...         ...   ...        ...         ...   \n",
       "4595      6360     1.0           0     0          4        1510   \n",
       "4596      7573     2.0           0     0          3        1460   \n",
       "4597      7014     2.0           0     0          3        3010   \n",
       "4598      6630     1.0           0     0          3        1070   \n",
       "4599      8102     2.0           0     0          4        1490   \n",
       "\n",
       "      sqft_basement  yr_built  yr_renovated                    street  \\\n",
       "0                 0      1955          2005      18810 Densmore Ave N   \n",
       "1               280      1921             0           709 W Blaine St   \n",
       "2                 0      1966             0  26206-26214 143rd Ave SE   \n",
       "3              1000      1963             0           857 170th Pl NE   \n",
       "4               800      1976          1992         9105 170th Ave NE   \n",
       "...             ...       ...           ...                       ...   \n",
       "4595              0      1954          1979            501 N 143rd St   \n",
       "4596              0      1983          2009          14855 SE 10th Pl   \n",
       "4597              0      2009             0          759 Ilwaco Pl NE   \n",
       "4598           1020      1974             0         5148 S Creston St   \n",
       "4599              0      1990             0         18717 SE 258th St   \n",
       "\n",
       "           city  statezip country  \n",
       "0     Shoreline  WA 98133     USA  \n",
       "1       Seattle  WA 98119     USA  \n",
       "2          Kent  WA 98042     USA  \n",
       "3      Bellevue  WA 98008     USA  \n",
       "4       Redmond  WA 98052     USA  \n",
       "...         ...       ...     ...  \n",
       "4595    Seattle  WA 98133     USA  \n",
       "4596   Bellevue  WA 98007     USA  \n",
       "4597     Renton  WA 98059     USA  \n",
       "4598    Seattle  WA 98178     USA  \n",
       "4599  Covington  WA 98042     USA  \n",
       "\n",
       "[4600 rows x 18 columns]"
      ]
     },
     "execution_count": 64,
     "metadata": {},
     "output_type": "execute_result"
    }
   ],
   "source": [
    "data"
   ]
  },
  {
   "cell_type": "code",
   "execution_count": 84,
   "id": "c7fcf94e-fdbc-43ed-86a4-973909be19ed",
   "metadata": {},
   "outputs": [],
   "source": [
    "x_data = data['sqft_living']\n",
    "y_data = data['price']"
   ]
  },
  {
   "cell_type": "code",
   "execution_count": 85,
   "id": "4c7c1392-353c-4011-9f8a-ec2213761ca2",
   "metadata": {},
   "outputs": [
    {
     "data": {
      "text/plain": [
       "0       1340\n",
       "1       3650\n",
       "2       1930\n",
       "3       2000\n",
       "4       1940\n",
       "        ... \n",
       "4595    1510\n",
       "4596    1460\n",
       "4597    3010\n",
       "4598    2090\n",
       "4599    1490\n",
       "Name: sqft_living, Length: 4600, dtype: int64"
      ]
     },
     "execution_count": 85,
     "metadata": {},
     "output_type": "execute_result"
    }
   ],
   "source": [
    "x_data"
   ]
  },
  {
   "cell_type": "code",
   "execution_count": 86,
   "id": "fa9f74cf-5593-461d-b528-fc02c3a84b62",
   "metadata": {},
   "outputs": [
    {
     "data": {
      "text/plain": [
       "0       3.130000e+05\n",
       "1       2.384000e+06\n",
       "2       3.420000e+05\n",
       "3       4.200000e+05\n",
       "4       5.500000e+05\n",
       "            ...     \n",
       "4595    3.081667e+05\n",
       "4596    5.343333e+05\n",
       "4597    4.169042e+05\n",
       "4598    2.034000e+05\n",
       "4599    2.206000e+05\n",
       "Name: price, Length: 4600, dtype: float64"
      ]
     },
     "execution_count": 86,
     "metadata": {},
     "output_type": "execute_result"
    }
   ],
   "source": [
    "y_data"
   ]
  },
  {
   "cell_type": "code",
   "execution_count": 87,
   "id": "976ca3f1-74ee-4992-8f78-9e4ca8730b11",
   "metadata": {},
   "outputs": [
    {
     "data": {
      "text/plain": [
       "(4600, 4600)"
      ]
     },
     "execution_count": 87,
     "metadata": {},
     "output_type": "execute_result"
    }
   ],
   "source": [
    "len(x_data), len(y_data)"
   ]
  },
  {
   "cell_type": "code",
   "execution_count": null,
   "id": "e47dbd66-aed1-4736-a008-3d6ccb0333fd",
   "metadata": {},
   "outputs": [],
   "source": []
  },
  {
   "cell_type": "code",
   "execution_count": null,
   "id": "1231e825-79c3-431a-bb13-7c7ed3cda77b",
   "metadata": {},
   "outputs": [],
   "source": []
  },
  {
   "cell_type": "code",
   "execution_count": 88,
   "id": "520d5ce4-2050-4236-9b6a-441a9b4ba009",
   "metadata": {},
   "outputs": [],
   "source": [
    "# 80% train, 20% - validation : random selection"
   ]
  },
  {
   "cell_type": "code",
   "execution_count": 89,
   "id": "14876374-3e68-4ad6-8477-a587e60df8c7",
   "metadata": {},
   "outputs": [],
   "source": [
    "def train_validation_split(x, y, validation_size=0.2, random_state=None):\n",
    "    x_validation = x.sample(frac=validation_size, random_state=random_state)\n",
    "    y_validation = y[x_validation.index]\n",
    "\n",
    "    x_train = x.drop(x_validation.index)\n",
    "    y_train = y.drop(y_validation.index)\n",
    "\n",
    "    return np.array(x_train), np.array(y_train), np.array(x_validation), np.array(y_validation)"
   ]
  },
  {
   "cell_type": "code",
   "execution_count": 217,
   "id": "e5c3f9f6-6417-42f4-8015-4f282b02d6aa",
   "metadata": {},
   "outputs": [],
   "source": [
    "x_train, y_train, x_validation, y_validation = train_validation_split(x_data, y_data, validation_size=0.2, random_state=15)"
   ]
  },
  {
   "cell_type": "code",
   "execution_count": 218,
   "id": "0f39494a-2e3c-44ab-8d6f-69749f4169c6",
   "metadata": {},
   "outputs": [
    {
     "data": {
      "text/plain": [
       "(3680, 3680)"
      ]
     },
     "execution_count": 218,
     "metadata": {},
     "output_type": "execute_result"
    }
   ],
   "source": [
    "len(x_train), len(y_train)"
   ]
  },
  {
   "cell_type": "code",
   "execution_count": 219,
   "id": "5cc11291-b4de-445d-860d-7ba2d8a9a59a",
   "metadata": {},
   "outputs": [
    {
     "data": {
      "text/plain": [
       "(920, 920)"
      ]
     },
     "execution_count": 219,
     "metadata": {},
     "output_type": "execute_result"
    }
   ],
   "source": [
    "len(x_validation), len(y_validation)"
   ]
  },
  {
   "cell_type": "code",
   "execution_count": 220,
   "id": "99d13f64-c100-401e-bd55-388aa4bb4a07",
   "metadata": {},
   "outputs": [
    {
     "data": {
      "text/plain": [
       "array([1340, 3650, 1940, ..., 1460, 3010, 1490], dtype=int64)"
      ]
     },
     "execution_count": 220,
     "metadata": {},
     "output_type": "execute_result"
    }
   ],
   "source": [
    "x_train"
   ]
  },
  {
   "cell_type": "code",
   "execution_count": 221,
   "id": "01fc652e-c8c4-489c-9bfd-9eea1c4c0d20",
   "metadata": {},
   "outputs": [
    {
     "data": {
      "text/plain": [
       "array([ 313000.      , 2384000.      ,  550000.      , ...,\n",
       "        534333.333333,  416904.166667,  220600.      ])"
      ]
     },
     "execution_count": 221,
     "metadata": {},
     "output_type": "execute_result"
    }
   ],
   "source": [
    "y_train"
   ]
  },
  {
   "cell_type": "code",
   "execution_count": 222,
   "id": "f6f4ce82-1edc-4f2e-a0d0-a8eac84c4d33",
   "metadata": {},
   "outputs": [
    {
     "data": {
      "image/png": "[encoded data removed]",
      "text/plain": [
       "<Figure size 640x480 with 1 Axes>"
      ]
     },
     "metadata": {},
     "output_type": "display_data"
    }
   ],
   "source": [
    "plt.scatter(x_train, y_train)\n",
    "plt.title(\"Train Data: House Size vs Price\")\n",
    "plt.xlabel(\"Size of house in living square meters\")\n",
    "plt.ylabel(\"Price\")\n",
    "plt.show()"
   ]
  },
  {
   "cell_type": "code",
   "execution_count": 223,
   "id": "5acf3bd8-2a0f-4d9f-8e47-9d492213fa18",
   "metadata": {},
   "outputs": [
    {
     "data": {
      "text/plain": [
       "(3680,)"
      ]
     },
     "execution_count": 223,
     "metadata": {},
     "output_type": "execute_result"
    }
   ],
   "source": [
    "x_train.shape"
   ]
  },
  {
   "cell_type": "markdown",
   "id": "0b80db95-e514-4e0f-84c8-b21ecb2c5c10",
   "metadata": {},
   "source": [
    "### Train"
   ]
  },
  {
   "cell_type": "code",
   "execution_count": 224,
   "id": "62fb8a48-db16-4442-be41-34970162b7a2",
   "metadata": {},
   "outputs": [],
   "source": [
    "def compute_cost(x, y, w, b):\n",
    "    m = x.shape[0]\n",
    "    cost = 0\n",
    "\n",
    "    for i in range(0, m):\n",
    "        f_wb = w * x[i] + b\n",
    "        cost += (f_wb - y[i])**2\n",
    "        \n",
    "    total_cost = cost / (2 * m)\n",
    "    return total_cost    "
   ]
  },
  {
   "cell_type": "code",
   "execution_count": 225,
   "id": "95948426-b1af-4188-9623-b8ffec86c9eb",
   "metadata": {},
   "outputs": [],
   "source": [
    "def compute_gradients(x, y, w, b):\n",
    "    m = x.shape[0]\n",
    "    dj_dw = 0\n",
    "    dj_db = 0\n",
    "\n",
    "    for i in range(0, m):\n",
    "        f_wb = w * x[i] + b\n",
    "        dj_dw += (f_wb - y[i]) * x[i]\n",
    "        dj_db += (f_wb - y[i])\n",
    "\n",
    "    dj_dw = dj_dw / m\n",
    "    dj_db = dj_db / m\n",
    "\n",
    "    return dj_dw, dj_db"
   ]
  },
  {
   "cell_type": "code",
   "execution_count": 226,
   "id": "25718464-6162-4dd6-b683-3f94a69af3a7",
   "metadata": {},
   "outputs": [],
   "source": [
    "def gradient_descent(x, y, w_in, b_in, alpha, num_inters, cost_function, gradient_function):\n",
    "    # pas by object reference\n",
    "    # shallow copy vs deep copy\n",
    "    w = copy.deepcopy(w_in)\n",
    "    b = copy.deepcopy(b_in)\n",
    "\n",
    "    # cost function evolution - loss\n",
    "    J_history = []\n",
    "\n",
    "    for i in range(0, num_inters):\n",
    "        dj_dw, dj_db = gradient_function(x, y, w, b)\n",
    "        \n",
    "        w = w - alpha * dj_dw\n",
    "        b = b - alpha * dj_db\n",
    "\n",
    "        J_history.append(cost_function(x, y, w, b))\n",
    "\n",
    "        print(f\"Iteration: {i} | Cost: {J_history[i]:.4} | dj_dw: {dj_dw:.4} | dj_db: {dj_db:.4} | w: {w:.4} | b: {b:.4}\")\n",
    "\n",
    "    return w, b, J_history    "
   ]
  },
  {
   "cell_type": "code",
   "execution_count": 227,
   "id": "c33b7b61-79db-407d-adc5-8f7a35054890",
   "metadata": {},
   "outputs": [
    {
     "name": "stdout",
     "output_type": "stream",
     "text": [
      "Iteration: 0 | Cost: 2.249e+11 | dj_dw: -1.406e+09 | dj_db: -5.535e+05 | w: 421.8 | b: 0.166\n",
      "Iteration: 1 | Cost: 1.811e+11 | dj_dw: 9.003e+08 | dj_db: 3.471e+05 | w: 151.8 | b: 0.06192\n",
      "Iteration: 2 | Cost: 1.632e+11 | dj_dw: -5.764e+08 | dj_db: -2.295e+05 | w: 324.7 | b: 0.1308\n",
      "Iteration: 3 | Cost: 1.559e+11 | dj_dw: 3.69e+08 | dj_db: 1.396e+05 | w: 214.0 | b: 0.08888\n",
      "Iteration: 4 | Cost: 1.529e+11 | dj_dw: -2.363e+08 | dj_db: -9.67e+04 | w: 284.8 | b: 0.1179\n",
      "Iteration: 5 | Cost: 1.516e+11 | dj_dw: 1.513e+08 | dj_db: 5.462e+04 | w: 239.5 | b: 0.1015\n",
      "Iteration: 6 | Cost: 1.511e+11 | dj_dw: -9.685e+07 | dj_db: -4.226e+04 | w: 268.5 | b: 0.1142\n",
      "Iteration: 7 | Cost: 1.509e+11 | dj_dw: 6.201e+07 | dj_db: 1.977e+04 | w: 249.9 | b: 0.1083\n",
      "Iteration: 8 | Cost: 1.508e+11 | dj_dw: -3.97e+07 | dj_db: -1.995e+04 | w: 261.8 | b: 0.1142\n",
      "Iteration: 9 | Cost: 1.508e+11 | dj_dw: 2.542e+07 | dj_db: 5.479e+03 | w: 254.2 | b: 0.1126\n",
      "Iteration: 10 | Cost: 1.508e+11 | dj_dw: -1.627e+07 | dj_db: -1.08e+04 | w: 259.1 | b: 0.1158\n",
      "Iteration: 11 | Cost: 1.508e+11 | dj_dw: 1.042e+07 | dj_db: -377.0 | w: 256.0 | b: 0.1159\n",
      "Iteration: 12 | Cost: 1.508e+11 | dj_dw: -6.671e+06 | dj_db: -7.05e+03 | w: 258.0 | b: 0.1181\n",
      "Iteration: 13 | Cost: 1.508e+11 | dj_dw: 4.271e+06 | dj_db: -2.778e+03 | w: 256.7 | b: 0.1189\n",
      "Iteration: 14 | Cost: 1.508e+11 | dj_dw: -2.734e+06 | dj_db: -5.513e+03 | w: 257.5 | b: 0.1205\n",
      "Iteration: 15 | Cost: 1.508e+11 | dj_dw: 1.751e+06 | dj_db: -3.762e+03 | w: 257.0 | b: 0.1217\n",
      "Iteration: 16 | Cost: 1.508e+11 | dj_dw: -1.121e+06 | dj_db: -4.883e+03 | w: 257.3 | b: 0.1231\n",
      "Iteration: 17 | Cost: 1.508e+11 | dj_dw: 7.176e+05 | dj_db: -4.165e+03 | w: 257.1 | b: 0.1244\n",
      "Iteration: 18 | Cost: 1.508e+11 | dj_dw: -4.595e+05 | dj_db: -4.625e+03 | w: 257.2 | b: 0.1258\n",
      "Iteration: 19 | Cost: 1.508e+11 | dj_dw: 2.942e+05 | dj_db: -4.33e+03 | w: 257.1 | b: 0.1271\n",
      "(w, b) found by gradient descent (257.1, 0.1271)\n"
     ]
    }
   ],
   "source": [
    "w_init = 0\n",
    "b_init = 0\n",
    "\n",
    "iterations = 20\n",
    "alpha = 3.0e-7\n",
    "\n",
    "w_final, b_final, J_history = gradient_descent(x=x_train, y=y_train, alpha=alpha, w_in=w_init, b_in=b_init, num_inters=iterations, cost_function=compute_cost, gradient_function=compute_gradients)\n",
    "print(f\"(w, b) found by gradient descent ({w_final:.4}, {b_final:.4})\")"
   ]
  },
  {
   "cell_type": "code",
   "execution_count": null,
   "id": "3c9defa3-03b4-416a-be54-60e50fa77f39",
   "metadata": {},
   "outputs": [],
   "source": []
  },
  {
   "cell_type": "markdown",
   "id": "d410a993-8960-4613-b741-4896d6403e82",
   "metadata": {},
   "source": [
    "### Metrics "
   ]
  },
  {
   "cell_type": "code",
   "execution_count": 228,
   "id": "89df9741-8cb2-4ded-a39b-2674d4073131",
   "metadata": {},
   "outputs": [
    {
     "data": {
      "text/plain": [
       "[224875100579.5237,\n",
       " 181140373458.72595,\n",
       " 163212898078.98486,\n",
       " 155864175570.80927,\n",
       " 152851831590.6748,\n",
       " 151617029724.12943,\n",
       " 151110867192.26144,\n",
       " 150903384098.69226,\n",
       " 150818333877.7624,\n",
       " 150783470601.02957,\n",
       " 150769179653.55402,\n",
       " 150763321591.12094,\n",
       " 150760920286.02744,\n",
       " 150759935954.03873,\n",
       " 150759532459.113,\n",
       " 150759367057.4105,\n",
       " 150759299253.4448,\n",
       " 150759271456.15427,\n",
       " 150759260058.1588,\n",
       " 150759255382.46347]"
      ]
     },
     "execution_count": 228,
     "metadata": {},
     "output_type": "execute_result"
    }
   ],
   "source": [
    "J_history"
   ]
  },
  {
   "cell_type": "code",
   "execution_count": 229,
   "id": "59c81cec-50e6-4b98-9995-edd90a0146b2",
   "metadata": {},
   "outputs": [
    {
     "data": {
      "image/png": "[encoded data removed]",
      "text/plain": [
       "<Figure size 640x480 with 1 Axes>"
      ]
     },
     "metadata": {},
     "output_type": "display_data"
    }
   ],
   "source": [
    "plt.plot(J_history)\n",
    "plt.title(\"Loss evolution (Cost Function per iteration)\")\n",
    "plt.xlabel(\"Iteration number\")\n",
    "plt.ylabel(\"Cost Function\")\n",
    "plt.show()"
   ]
  },
  {
   "cell_type": "code",
   "execution_count": null,
   "id": "0e8a34a8-1ac4-41d7-99de-289604aa6a62",
   "metadata": {},
   "outputs": [],
   "source": []
  },
  {
   "cell_type": "code",
   "execution_count": 230,
   "id": "0e104598-5d18-4e89-9ace-6df6b17b4ae3",
   "metadata": {},
   "outputs": [],
   "source": [
    "def r2_score(y, y_):\n",
    "    num = np.sum((y - y_)**2)\n",
    "    denom = np.sum((y - y.mean())**2)\n",
    "\n",
    "    score = 1 - num / denom\n",
    "    return score"
   ]
  },
  {
   "cell_type": "code",
   "execution_count": 231,
   "id": "7786ac54-707f-4435-9f32-be6a501b87d4",
   "metadata": {},
   "outputs": [],
   "source": [
    "y_predicted_train = [w_final * i + b_final for i in x_train]"
   ]
  },
  {
   "cell_type": "code",
   "execution_count": 232,
   "id": "bab34509-edce-48b7-923e-7b96d7945b31",
   "metadata": {},
   "outputs": [
    {
     "data": {
      "text/plain": [
       "0.15494411061331048"
      ]
     },
     "execution_count": 232,
     "metadata": {},
     "output_type": "execute_result"
    }
   ],
   "source": [
    "r2_score(y_train, y_predicted_train) # between 0 - 1. "
   ]
  },
  {
   "cell_type": "code",
   "execution_count": 233,
   "id": "6b545fdc-5bca-4f9b-9a33-36fd14cd68ac",
   "metadata": {},
   "outputs": [],
   "source": [
    "y_predicted_validate = [w_final * i + b_final for i in x_validation]"
   ]
  },
  {
   "cell_type": "code",
   "execution_count": 234,
   "id": "ab603f35-5723-464e-9060-9117c7665c6a",
   "metadata": {},
   "outputs": [
    {
     "data": {
      "text/plain": [
       "0.45125560623548355"
      ]
     },
     "execution_count": 234,
     "metadata": {},
     "output_type": "execute_result"
    }
   ],
   "source": [
    "r2_score(y_validation, y_predicted_validate)"
   ]
  },
  {
   "cell_type": "code",
   "execution_count": 235,
   "id": "481913c2-3994-4ae8-948a-9322f8222a43",
   "metadata": {},
   "outputs": [
    {
     "data": {
      "text/plain": [
       "<matplotlib.collections.PathCollection at 0x1c6e5a44aa0>"
      ]
     },
     "execution_count": 235,
     "metadata": {},
     "output_type": "execute_result"
    },
    {
     "data": {
      "image/png": "[encoded data removed]",
      "text/plain": [
       "<Figure size 640x480 with 1 Axes>"
      ]
     },
     "metadata": {},
     "output_type": "display_data"
    }
   ],
   "source": [
    "plt.scatter(x_validation, y_validation)"
   ]
  },
  {
   "cell_type": "code",
   "execution_count": 236,
   "id": "69544191-338a-4e28-b0e5-325b16924ad9",
   "metadata": {},
   "outputs": [
    {
     "data": {
      "text/plain": [
       "<matplotlib.collections.PathCollection at 0x1c6e56a47d0>"
      ]
     },
     "execution_count": 236,
     "metadata": {},
     "output_type": "execute_result"
    },
    {
     "data": {
      "image/png": "[encoded data removed]",
      "text/plain": [
       "<Figure size 640x480 with 1 Axes>"
      ]
     },
     "metadata": {},
     "output_type": "display_data"
    }
   ],
   "source": [
    "plt.scatter(x_train, y_train)"
   ]
  },
  {
   "cell_type": "code",
   "execution_count": null,
   "id": "2af9530f-251d-4478-b0a6-8c735567a198",
   "metadata": {},
   "outputs": [],
   "source": []
  },
  {
   "cell_type": "markdown",
   "id": "dca15d7a-6ce4-4be1-bd58-38fcc189f341",
   "metadata": {},
   "source": [
    "### Prediction"
   ]
  },
  {
   "cell_type": "code",
   "execution_count": 216,
   "id": "563f9c9a-b609-44b8-990a-f021dd0e1fc5",
   "metadata": {},
   "outputs": [
    {
     "name": "stdout",
     "output_type": "stream",
     "text": [
      "A house with size(m^2) 20 has a price of: 5126.730660437064$\n",
      "A house with size(m^2) 30 has a price of: 7690.032608862009$\n",
      "A house with size(m^2) 50 has a price of: 12816.636505711898$\n",
      "A house with size(m^2) 60 has a price of: 15379.938454136842$\n",
      "A house with size(m^2) 4000 has a price of: 1025320.9061335649$\n"
     ]
    }
   ],
   "source": [
    "size_of_house = 20\n",
    "print(f\"A house with size(m^2) {size_of_house} has a price of: {w_final * size_of_house + b_final}$\")\n",
    "size_of_house = 30\n",
    "print(f\"A house with size(m^2) {size_of_house} has a price of: {w_final * size_of_house + b_final}$\")\n",
    "size_of_house = 50\n",
    "print(f\"A house with size(m^2) {size_of_house} has a price of: {w_final * size_of_house + b_final}$\")\n",
    "size_of_house = 60\n",
    "print(f\"A house with size(m^2) {size_of_house} has a price of: {w_final * size_of_house + b_final}$\")\n",
    "size_of_house = 4000\n",
    "print(f\"A house with size(m^2) {size_of_house} has a price of: {w_final * size_of_house + b_final}$\")"
   ]
  },
  {
   "cell_type": "code",
   "execution_count": null,
   "id": "c51d08c7-225a-48c8-935b-30a0c4e1f0d2",
   "metadata": {},
   "outputs": [],
   "source": []
  },
  {
   "cell_type": "code",
   "execution_count": 132,
   "id": "83c79b5f-908a-4c1e-acb7-93dd4b52e971",
   "metadata": {},
   "outputs": [
    {
     "data": {
      "image/png": "[encoded data removed]",
      "text/plain": [
       "<Figure size 640x480 with 1 Axes>"
      ]
     },
     "metadata": {},
     "output_type": "display_data"
    }
   ],
   "source": [
    "plt.scatter(x_train, y_train)\n",
    "plt.plot(x_train, w_final * x_train + b_final, c='r')\n",
    "plt.show()"
   ]
  },
  {
   "cell_type": "code",
   "execution_count": 133,
   "id": "77401df3-3471-4632-8130-5ce0a05ed702",
   "metadata": {},
   "outputs": [
    {
     "data": {
      "image/png": "[encoded data removed]",
      "text/plain": [
       "<Figure size 640x480 with 1 Axes>"
      ]
     },
     "metadata": {},
     "output_type": "display_data"
    }
   ],
   "source": [
    "plt.scatter(x_validation, y_validation)\n",
    "plt.plot(x_train, w_final * x_train + b_final, c='r')\n",
    "plt.show()"
   ]
  },
  {
   "cell_type": "code",
   "execution_count": null,
   "id": "f2bcd79e-94a9-485f-8140-3920723dc221",
   "metadata": {},
   "outputs": [],
   "source": []
  }
 ],
 "metadata": {
  "kernelspec": {
   "display_name": "Python 3 (ipykernel)",
   "language": "python",
   "name": "python3"
  },
  "language_info": {
   "codemirror_mode": {
    "name": "ipython",
    "version": 3
   },
   "file_extension": ".py",
   "mimetype": "text/x-python",
   "name": "python",
   "nbconvert_exporter": "python",
   "pygments_lexer": "ipython3",
   "version": "3.12.2"
  }
 },
 "nbformat": 4,
 "nbformat_minor": 5
}
